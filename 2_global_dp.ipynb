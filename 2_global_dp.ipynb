{
 "cells": [
  {
   "cell_type": "markdown",
   "metadata": {},
   "source": [
    "# Global Sequence Alignments\n",
    "We can perform optimal global sequence alignments with a dynamic programming approach."
   ]
  },
  {
   "cell_type": "code",
   "execution_count": 1,
   "metadata": {},
   "outputs": [],
   "source": [
    "import numpy as np\n",
    "import scipy as sp\n",
    "import matplotlib.pyplot as plt\n",
    "import seaborn as sns; sns.set()\n",
    "import pandas as pd\n",
    "import sequence_alignment as seq"
   ]
  },
  {
   "cell_type": "code",
   "execution_count": 2,
   "metadata": {},
   "outputs": [],
   "source": [
    "seq_2 = \"AAAAATGCGCC\"\n",
    "seq_1 = \"AAAATGCCA\""
   ]
  },
  {
   "cell_type": "markdown",
   "metadata": {},
   "source": [
    "## 1. Initialization Step\n",
    "\n",
    "First, we need to initialize an $(m+1) \\times (n+1)$ matrix and assign gap penalties. We will call this matrix the scoring matrix $(M)$. <br>\n",
    "*Note:* We will start off with linear gap penalties and modify the approach for affine penalties in another notebook."
   ]
  },
  {
   "cell_type": "code",
   "execution_count": 3,
   "metadata": {},
   "outputs": [],
   "source": [
    "m = len(seq_1); n = len(seq_2)\n",
    "M = np.zeros([m+1,n+1])"
   ]
  },
  {
   "cell_type": "markdown",
   "metadata": {},
   "source": [
    "Let's specify a gap penalty $g$."
   ]
  },
  {
   "cell_type": "code",
   "execution_count": 4,
   "metadata": {},
   "outputs": [],
   "source": [
    "g = -6"
   ]
  },
  {
   "cell_type": "markdown",
   "metadata": {},
   "source": [
    "$M$ is initialized as: <br>\n",
    "$$ M_{(0,0)} = 0 $$ <br>\n",
    "$$ M_{(0,j)} = gj \\ \\forall j>0 $$ <br>\n",
    "$$ M_{(i,0)} = gi \\ \\forall i>0 $$"
   ]
  },
  {
   "cell_type": "code",
   "execution_count": 5,
   "metadata": {},
   "outputs": [],
   "source": [
    "#initialize the matrix\n",
    "M[0,:] = g*np.arange(0,n+1)\n",
    "M[:,0] = g*np.arange(0,m+1)"
   ]
  },
  {
   "cell_type": "code",
   "execution_count": 6,
   "metadata": {},
   "outputs": [
    {
     "data": {
      "image/png": "[encoded data removed]",
      "text/plain": [
       "<Figure size 432x288 with 1 Axes>"
      ]
     },
     "metadata": {},
     "output_type": "display_data"
    }
   ],
   "source": [
    "sns.heatmap(M,linecolor='white',linewidth=1,cmap=\"viridis\",square=True,annot=True,cbar=False);"
   ]
  },
  {
   "cell_type": "markdown",
   "metadata": {},
   "source": [
    "As you can see, the initialized matrix has linearly decreasing scores along the first row and first column."
   ]
  },
  {
   "cell_type": "markdown",
   "metadata": {},
   "source": [
    "## 2. Fill Step\n",
    "To fill the matrix with scores, we need to iterate over the elements of the matrix and fill in values according to the following recursive relation:\n",
    "\n",
    "$$ M_{i,j} = \\max \\{ (M_{i-1,j-1} + S_{i,j}), \\ (M_{i-1,j} + g), \\ (M_{i,j-1} + g) \\} $$\n",
    "\n",
    "Where $M$ is the scoring matrix, $S$ is the substitution matrix and $g$ is the gap penalty."
   ]
  },
  {
   "cell_type": "markdown",
   "metadata": {},
   "source": [
    "### Substitution Matrix\n",
    "Consider the following substition matrix for DNA sequences."
   ]
  },
  {
   "cell_type": "code",
   "execution_count": 7,
   "metadata": {},
   "outputs": [
    {
     "data": {
      "text/html": [
       "<div>\n",
       "<style scoped>\n",
       "    .dataframe tbody tr th:only-of-type {\n",
       "        vertical-align: middle;\n",
       "    }\n",
       "\n",
       "    .dataframe tbody tr th {\n",
       "        vertical-align: top;\n",
       "    }\n",
       "\n",
       "    .dataframe thead th {\n",
       "        text-align: right;\n",
       "    }\n",
       "</style>\n",
       "<table border=\"1\" class=\"dataframe\">\n",
       "  <thead>\n",
       "    <tr style=\"text-align: right;\">\n",
       "      <th></th>\n",
       "      <th>A</th>\n",
       "      <th>G</th>\n",
       "      <th>C</th>\n",
       "      <th>T</th>\n",
       "    </tr>\n",
       "  </thead>\n",
       "  <tbody>\n",
       "    <tr>\n",
       "      <th>A</th>\n",
       "      <td>2.0</td>\n",
       "      <td>-5.0</td>\n",
       "      <td>-7.0</td>\n",
       "      <td>-7.0</td>\n",
       "    </tr>\n",
       "    <tr>\n",
       "      <th>G</th>\n",
       "      <td>-5.0</td>\n",
       "      <td>2.0</td>\n",
       "      <td>-7.0</td>\n",
       "      <td>-7.0</td>\n",
       "    </tr>\n",
       "    <tr>\n",
       "      <th>C</th>\n",
       "      <td>-7.0</td>\n",
       "      <td>-7.0</td>\n",
       "      <td>2.0</td>\n",
       "      <td>-5.0</td>\n",
       "    </tr>\n",
       "    <tr>\n",
       "      <th>T</th>\n",
       "      <td>-7.0</td>\n",
       "      <td>-7.0</td>\n",
       "      <td>-5.0</td>\n",
       "      <td>2.0</td>\n",
       "    </tr>\n",
       "  </tbody>\n",
       "</table>\n",
       "</div>"
      ],
      "text/plain": [
       "     A    G    C    T\n",
       "A  2.0 -5.0 -7.0 -7.0\n",
       "G -5.0  2.0 -7.0 -7.0\n",
       "C -7.0 -7.0  2.0 -5.0\n",
       "T -7.0 -7.0 -5.0  2.0"
      ]
     },
     "execution_count": 7,
     "metadata": {},
     "output_type": "execute_result"
    }
   ],
   "source": [
    "S = pd.read_csv('dna_transition_transversion.csv',index_col=0)\n",
    "S"
   ]
  },
  {
   "cell_type": "code",
   "execution_count": 8,
   "metadata": {},
   "outputs": [],
   "source": [
    "tracer = np.zeros([np.shape(M)[0],np.shape(M)[1],3])\n",
    "for i in range(1,m+1):\n",
    "    for j in range(1,n+1):\n",
    "        arr = np.array([M[i-1,j-1]+(S[seq_1[i-1]][seq_2[j-1]]),(M[i-1,j]+g),(M[i,j-1]+g)])\n",
    "        M[i,j] = np.max(arr)\n",
    "        idx = np.where(arr==np.max(arr))\n",
    "        tracer[i,j,idx] = 1"
   ]
  },
  {
   "cell_type": "code",
   "execution_count": 9,
   "metadata": {},
   "outputs": [
    {
     "data": {
      "image/png": "[encoded data removed]",
      "text/plain": [
       "<Figure size 432x288 with 1 Axes>"
      ]
     },
     "metadata": {},
     "output_type": "display_data"
    }
   ],
   "source": [
    "sns.heatmap(M,linecolor='white',linewidth=1,cmap=\"viridis\",square=True,annot=True,cbar=False);"
   ]
  },
  {
   "cell_type": "markdown",
   "metadata": {},
   "source": [
    "For every element in the above matrix, as we were filling up, we recorded the traceback direction in a 3D matrix called `tracer`. Let's visualize the three channels of the `tracer` matrix: $\\nwarrow$, $\\uparrow$ and $\\leftarrow$ "
   ]
  },
  {
   "cell_type": "code",
   "execution_count": 10,
   "metadata": {},
   "outputs": [
    {
     "data": {
      "image/png": "[encoded data removed]",
      "text/plain": [
       "<Figure size 936x432 with 3 Axes>"
      ]
     },
     "metadata": {},
     "output_type": "display_data"
    }
   ],
   "source": [
    "fig, ax = plt.subplots(1,3,figsize = (13,6))\n",
    "for i,p in enumerate([r\"$\\nwarrow$\",r\"$\\uparrow$\",r\"$\\leftarrow$\"]):\n",
    "        sns.heatmap(tracer[:,:,i],linecolor='white',linewidth=1,\n",
    "                    cmap=\"coolwarm\",vmin=-0.5,vmax=0.6,square=True,cbar=False,ax=ax[i]);\n",
    "        ax[i].set_title(p)"
   ]
  },
  {
   "cell_type": "markdown",
   "metadata": {},
   "source": [
    "## 3. Traceback\n",
    "When we pass `tracer` to the `traceback` function, it constructs 2x2 blocks iteratively from the 3 channels shown above and moves the block along the direction specified by the arrows."
   ]
  },
  {
   "cell_type": "code",
   "execution_count": 11,
   "metadata": {},
   "outputs": [
    {
     "name": "stdout",
     "output_type": "stream",
     "text": [
      "WARNING: 100 iterations exceeded; <10 alignments found: to continue searching, increase max_i.\n",
      "1. \n",
      " -AAAATGC-CA \n",
      " AAAAATGCGCC \n",
      "\n",
      "2. \n",
      " AAA-ATGC-CA \n",
      " AAAAATGCGCC \n",
      "\n",
      "3. \n",
      " AAAA-TGC-CA \n",
      " AAAAATGCGCC \n",
      "\n",
      "4. \n",
      " A-AAATGC-CA \n",
      " AAAAATGCGCC \n",
      "\n",
      "5. \n",
      " AA-AATGC-CA \n",
      " AAAAATGCGCC \n",
      "\n"
     ]
    }
   ],
   "source": [
    "alignment = seq.traceback_iterator(tracer,seq_1,seq_2)\n",
    "for i,e in enumerate(alignment):\n",
    "    print(str(i+1)+\".\",\"\\n\",e[0],\"\\n\",e[1],\"\\n\")"
   ]
  },
  {
   "cell_type": "markdown",
   "metadata": {},
   "source": [
    "There are atleast 5 possible optimal alignments for the sequences `AAAAATGCGCC` and `AAAATGCCA`."
   ]
  },
  {
   "cell_type": "markdown",
   "metadata": {},
   "source": [
    "## 4. Example Alignments\n",
    "\n",
    "Let's align some more sequences.\n",
    "\n",
    "### 1."
   ]
  },
  {
   "cell_type": "code",
   "execution_count": 12,
   "metadata": {},
   "outputs": [],
   "source": [
    "seq_2 = \"AAATTGCGCAAAATCTACTACGCGCGCGA\"\n",
    "seq_1 = \"AAATTGCGCAAAATCTTACGCGCCCTACGCGA\""
   ]
  },
  {
   "cell_type": "code",
   "execution_count": 13,
   "metadata": {},
   "outputs": [
    {
     "name": "stdout",
     "output_type": "stream",
     "text": [
      "Max. score = 12.0\n",
      "1. \n",
      " AAATTGCGCAAAATCT--TACGCGCCCTACGCGA \n",
      " AAATTGCGCAAAATCTACTACGCG-C----GCGA \n",
      "\n",
      "2. \n",
      " AAATTGCGCAAAATCTTAC-GCGCCCTACGCGA \n",
      " AAATTGCGCAAAATCT-ACTACG--C-GCGCGA \n",
      "\n",
      "3. \n",
      " AAATTGCGCAAAATCTTAC-GCGCCCTACGCGA \n",
      " AAATTGCGCAAAATCT-ACTACG-C--GCGCGA \n",
      "\n",
      "4. \n",
      " AAATTGCGCAAAATCTTAC-GCGCCCTACGCGA \n",
      " AAATTGCGCAAAATCT-ACTACGC---GCGCGA \n",
      "\n",
      "5. \n",
      " AAATTGCGCAAAATCT--TACGCGCCCTACGCGA \n",
      " AAATTGCGCAAAATCTACTACGCG-----CGCGA \n",
      "\n",
      "6. \n",
      " AAATTGCGCAAAATCT--TACGCGCCCTACGCGA \n",
      " AAATTGCGCAAAATCTACTACGCGC-----GCGA \n",
      "\n",
      "7. \n",
      " AAATTGCGCAAAATCTTAC-GCGCCCTACGCGA \n",
      " AAATTGCGCAAAATC-TACTACG--C-GCGCGA \n",
      "\n",
      "8. \n",
      " AAATTGCGCAAAATCTTAC-GCGCCCTACGCGA \n",
      " AAATTGCGCAAAATC-TACTACG-C--GCGCGA \n",
      "\n",
      "9. \n",
      " AAATTGCGCAAAATCT--TACGCGCCCTACGCGA \n",
      " AAATTGCGCAAAATCTACTACGCG--C---GCGA \n",
      "\n",
      "10. \n",
      " AAATTGCGCAAAATCTTAC-GCGCCCTACGCGA \n",
      " AAATTGCGCAAAATC-TACTACGC---GCGCGA \n",
      "\n"
     ]
    }
   ],
   "source": [
    "_,_,_ = seq.global_dp(seq_1,seq_2,S,g,disp_alignments=True,max_i=200)"
   ]
  },
  {
   "cell_type": "markdown",
   "metadata": {},
   "source": [
    "### 2."
   ]
  },
  {
   "cell_type": "code",
   "execution_count": 14,
   "metadata": {},
   "outputs": [],
   "source": [
    "seq_2 = \"ATCCCCGGGGGGGCTCTCTC\"\n",
    "seq_1 = \"AT\""
   ]
  },
  {
   "cell_type": "code",
   "execution_count": 15,
   "metadata": {},
   "outputs": [
    {
     "name": "stdout",
     "output_type": "stream",
     "text": [
      "WARNING: 100 iterations exceeded; <10 alignments found: to continue searching, increase max_i.\n",
      "Max. score = -104.0\n",
      "1. \n",
      " A-----------------T- \n",
      " ATCCCCGGGGGGGCTCTCTC \n",
      "\n",
      "2. \n",
      " AT------------------ \n",
      " ATCCCCGGGGGGGCTCTCTC \n",
      "\n",
      "3. \n",
      " A---------------T--- \n",
      " ATCCCCGGGGGGGCTCTCTC \n",
      "\n",
      "4. \n",
      " A-------------T----- \n",
      " ATCCCCGGGGGGGCTCTCTC \n",
      "\n"
     ]
    }
   ],
   "source": [
    "_,_,_ = seq.global_dp(seq_1,seq_2,S,g,disp_alignments=True)"
   ]
  }
 ],
 "metadata": {
  "kernelspec": {
   "display_name": "Python 3",
   "language": "python",
   "name": "python3"
  },
  "language_info": {
   "codemirror_mode": {
    "name": "ipython",
    "version": 3
   },
   "file_extension": ".py",
   "mimetype": "text/x-python",
   "name": "python",
   "nbconvert_exporter": "python",
   "pygments_lexer": "ipython3",
   "version": "3.8.5"
  }
 },
 "nbformat": 4,
 "nbformat_minor": 2
}
