{
 "cells": [
  {
   "cell_type": "markdown",
   "metadata": {},
   "source": [
    "# Alignment Matrices and Tracebacks"
   ]
  },
  {
   "cell_type": "code",
   "execution_count": 1,
   "metadata": {},
   "outputs": [],
   "source": [
    "import numpy as np\n",
    "import scipy as sp\n",
    "import matplotlib.pyplot as plt\n",
    "import seaborn as sns; sns.set()\n",
    "import sequence_alignment as seq"
   ]
  },
  {
   "cell_type": "code",
   "execution_count": 2,
   "metadata": {},
   "outputs": [],
   "source": [
    "cm = \"Blues\""
   ]
  },
  {
   "cell_type": "markdown",
   "metadata": {},
   "source": [
    "## Matrix Representation"
   ]
  },
  {
   "cell_type": "markdown",
   "metadata": {},
   "source": [
    "Given two sequences of size $m, n$ - you can come up with a matrix representation of all possible alignments between them."
   ]
  },
  {
   "cell_type": "code",
   "execution_count": 3,
   "metadata": {},
   "outputs": [],
   "source": [
    "seq_1 = \"ATATTGTAG\"\n",
    "seq_2 = \"ATTTTA\""
   ]
  },
  {
   "cell_type": "code",
   "execution_count": 4,
   "metadata": {},
   "outputs": [
    {
     "data": {
      "image/png": "[encoded data removed]",
      "text/plain": [
       "<Figure size 432x288 with 1 Axes>"
      ]
     },
     "metadata": {},
     "output_type": "display_data"
    }
   ],
   "source": [
    "m = len(seq_1); n = len(seq_2)\n",
    "mat = np.zeros([m+1,n+1])\n",
    "sns.heatmap(mat,linecolor='white',linewidth=1,cmap=cm,square=True,vmin=-1,vmax=1,cbar=False);"
   ]
  },
  {
   "cell_type": "markdown",
   "metadata": {},
   "source": [
    "In the above matrix, a series of connected elements from the bottom right corner to the top left corner represents a global alignment. Local alignment tracebacks are discussed in a different notebook.\n",
    "\n",
    "Let's write a function to go from a particular matrix alignment to an alignment between the sequences. This is known as a _traceback_."
   ]
  },
  {
   "cell_type": "code",
   "execution_count": 5,
   "metadata": {},
   "outputs": [
    {
     "data": {
      "image/png": "[encoded data removed]",
      "text/plain": [
       "<Figure size 432x288 with 1 Axes>"
      ]
     },
     "metadata": {},
     "output_type": "display_data"
    }
   ],
   "source": [
    "mat[0:3,0]=1; mat[range(4,10),range(1,7)]=1; mat[3,1]=1\n",
    "sns.heatmap(mat,linecolor='white',linewidth=1,cmap=cm,square=True,vmin=-1,vmax=1,cbar=False);"
   ]
  },
  {
   "cell_type": "markdown",
   "metadata": {},
   "source": [
    "The `seq.traceback` function performs a traceback on the matrix."
   ]
  },
  {
   "cell_type": "code",
   "execution_count": 6,
   "metadata": {},
   "outputs": [
    {
     "name": "stdout",
     "output_type": "stream",
     "text": [
      " ATATTGTAG \n",
      " --A-TTTTA\n"
     ]
    }
   ],
   "source": [
    "alignment = seq.traceback(mat,seq_1,seq_2,representation=True)\n",
    "print(\"\",alignment[0],\"\\n\",alignment[1])"
   ]
  },
  {
   "cell_type": "markdown",
   "metadata": {},
   "source": [
    "## More Tracebacks\n",
    "\n",
    "Let's try tracing back a few more matrices.\n",
    "\n",
    "**Ex. 1.** Sequence 1 is longer than sequence 2."
   ]
  },
  {
   "cell_type": "code",
   "execution_count": 7,
   "metadata": {},
   "outputs": [
    {
     "name": "stdout",
     "output_type": "stream",
     "text": [
      " ---ATATTGTAG \n",
      " ATTTTA------\n"
     ]
    },
    {
     "data": {
      "image/png": "[encoded data removed]",
      "text/plain": [
       "<Figure size 432x288 with 1 Axes>"
      ]
     },
     "metadata": {},
     "output_type": "display_data"
    }
   ],
   "source": [
    "seq_1 = \"ATATTGTAG\"\n",
    "seq_2 = \"ATTTTA\"\n",
    "\n",
    "m = len(seq_1); n = len(seq_2)\n",
    "mat = np.zeros([m+1,n+1])\n",
    "mat[0,0:3]=1; mat[range(0,4),range(3,7)]=1; mat[4:10,-1]=1\n",
    "sns.heatmap(mat,linecolor='white',linewidth=1,cmap=cm,square=True,vmin=-1,vmax=1,cbar=False);\n",
    "\n",
    "alignment = seq.traceback(mat,seq_1,seq_2,representation=True)\n",
    "print(\"\",alignment[0],\"\\n\",alignment[1])"
   ]
  },
  {
   "cell_type": "markdown",
   "metadata": {},
   "source": [
    "**Ex. 2.** Sequence 1 is the same length as sequence 2."
   ]
  },
  {
   "cell_type": "code",
   "execution_count": 8,
   "metadata": {},
   "outputs": [
    {
     "name": "stdout",
     "output_type": "stream",
     "text": [
      " ---ATA--TTGTAG \n",
      " ATTTTAGGT-----\n"
     ]
    },
    {
     "data": {
      "image/png": "[encoded data removed]",
      "text/plain": [
       "<Figure size 432x288 with 1 Axes>"
      ]
     },
     "metadata": {},
     "output_type": "display_data"
    }
   ],
   "source": [
    "seq_1 = \"ATATTGTAG\"\n",
    "seq_2 = \"ATTTTAGGT\"\n",
    "\n",
    "m = len(seq_1); n = len(seq_2)\n",
    "mat = np.zeros([m+1,n+1])\n",
    "mat[0,0:3]=1; mat[range(0,4),range(3,7)]=1; mat[3,6:-1]=1; mat[4:10,-1]=1\n",
    "sns.heatmap(mat,linecolor='white',linewidth=1,cmap=cm,square=True,vmin=-1,vmax=1,cbar=False);\n",
    "\n",
    "alignment = seq.traceback(mat,seq_1,seq_2,representation=True)\n",
    "print(\"\",alignment[0],\"\\n\",alignment[1])"
   ]
  },
  {
   "cell_type": "markdown",
   "metadata": {},
   "source": [
    "**Ex. 3.** Sequence 1 is shorter than sequence 2."
   ]
  },
  {
   "cell_type": "code",
   "execution_count": 9,
   "metadata": {},
   "outputs": [
    {
     "name": "stdout",
     "output_type": "stream",
     "text": [
      " ---ATA-------TTGTAG \n",
      " ATTTTAGGTTTTAA-----\n"
     ]
    },
    {
     "data": {
      "image/png": "[encoded data removed]",
      "text/plain": [
       "<Figure size 432x288 with 1 Axes>"
      ]
     },
     "metadata": {},
     "output_type": "display_data"
    }
   ],
   "source": [
    "seq_1 = \"ATATTGTAG\"\n",
    "seq_2 = \"ATTTTAGGTTTTAA\"\n",
    "\n",
    "m = len(seq_1); n = len(seq_2)\n",
    "mat = np.zeros([m+1,n+1])\n",
    "mat[0,0:3]=1; mat[range(0,4),range(3,7)]=1; mat[3,6:-1]=1; mat[4:10,-1]=1\n",
    "sns.heatmap(mat,linecolor='white',linewidth=1,cmap=cm,square=True,vmin=-1,vmax=1,cbar=False);\n",
    "\n",
    "alignment = seq.traceback(mat,seq_1,seq_2,representation=True)\n",
    "print(\"\",alignment[0],\"\\n\",alignment[1])"
   ]
  },
  {
   "cell_type": "markdown",
   "metadata": {},
   "source": [
    "## Bifurcations\n",
    "What if the matrix alignment has bifurcations?\n",
    "\n",
    "In our current approach, we travel one of the >2 paths at every bifurcation randomly and spit out one alignment. If the traceback is run a large enough number of times, you can sample all possible alignments. "
   ]
  },
  {
   "cell_type": "code",
   "execution_count": 10,
   "metadata": {},
   "outputs": [
    {
     "name": "stdout",
     "output_type": "stream",
     "text": [
      " ATATTG--TAG \n",
      " ATTTTAGGT--\n"
     ]
    },
    {
     "data": {
      "image/png": "[encoded data removed]",
      "text/plain": [
       "<Figure size 432x288 with 1 Axes>"
      ]
     },
     "metadata": {},
     "output_type": "display_data"
    }
   ],
   "source": [
    "seq_1 = \"ATATTGTAG\"\n",
    "seq_2 = \"ATTTTAGGT\"\n",
    "\n",
    "m = len(seq_1); n = len(seq_2)\n",
    "mat = np.zeros([m+1,n+1])\n",
    "mat[0,0:3]=1; mat[range(0,4),range(3,7)]=1; mat[3,6:]=1; mat[3:10,-1]=1\n",
    "mat[6,6:]=1; mat[range(0,6),range(0,6)]=1;\n",
    "sns.heatmap(mat,linecolor='white',linewidth=1,cmap=cm,square=True,vmin=-1,vmax=1,cbar=False);\n",
    "\n",
    "alignment = seq.traceback(mat,seq_1,seq_2,representation=True)\n",
    "print(\"\",alignment[0],\"\\n\",alignment[1])"
   ]
  },
  {
   "cell_type": "markdown",
   "metadata": {},
   "source": [
    "We can use the `seq.traceback_iterator` function to sample a large number of possible solutions and spit out the unique ones."
   ]
  },
  {
   "cell_type": "code",
   "execution_count": 11,
   "metadata": {},
   "outputs": [
    {
     "name": "stdout",
     "output_type": "stream",
     "text": [
      "WARNING: 100 iterations exceeded; <10 alignments found: to continue searching, increase max_i.\n",
      "1. \n",
      " ---ATA---TTGTAG \n",
      " ATTTTAGGT------ \n",
      "\n",
      "2. \n",
      " ATATTG--TAG \n",
      " ATTTTAGGT-- \n",
      "\n",
      "3. \n",
      " ATATTG---TAG \n",
      " ATTTTAGGT--- \n",
      "\n",
      "4. \n",
      " ---ATA--TTGTAG \n",
      " ATTTTAGGT----- \n",
      "\n",
      "5. \n",
      " -ATATTG--TAG \n",
      " A-TTTTAGGT-- \n",
      "\n",
      "6. \n",
      " -ATATTG---TAG \n",
      " A-TTTTAGGT--- \n",
      "\n"
     ]
    },
    {
     "data": {
      "image/png": "[encoded data removed]",
      "text/plain": [
       "<Figure size 432x288 with 1 Axes>"
      ]
     },
     "metadata": {},
     "output_type": "display_data"
    }
   ],
   "source": [
    "seq_1 = \"ATATTGTAG\"\n",
    "seq_2 = \"ATTTTAGGT\"\n",
    "\n",
    "m = len(seq_1); n = len(seq_2)\n",
    "mat = np.zeros([m+1,n+1])\n",
    "mat[0,0:3]=1; mat[range(0,4),range(3,7)]=1; mat[3,6:]=1; mat[3:10,-1]=1\n",
    "mat[6,6:]=1; mat[range(0,6),range(0,6)]=1;\n",
    "sns.heatmap(mat,linecolor='white',linewidth=1,cmap=cm,square=True,vmin=-1,vmax=1,cbar=False);\n",
    "\n",
    "alignment = seq.traceback_iterator(mat,seq_1,seq_2,representation=True)\n",
    "for i,e in enumerate(alignment):\n",
    "    print(str(i+1)+\".\",\"\\n\",e[0],\"\\n\",e[1],\"\\n\")"
   ]
  },
  {
   "cell_type": "markdown",
   "metadata": {},
   "source": [
    "Using such a random search approach, we can successfully find all 6 possible alignments for the above matrix. This can be made more efficient by memorizing the previous path travelled."
   ]
  },
  {
   "cell_type": "markdown",
   "metadata": {},
   "source": [
    "### Taking the high-low road\n",
    "Instead of wasting our time searching for all alignments, we can spit out the two most different alignments for a bifurcated matrix."
   ]
  },
  {
   "cell_type": "code",
   "execution_count": 12,
   "metadata": {},
   "outputs": [
    {
     "name": "stdout",
     "output_type": "stream",
     "text": [
      "1. \n",
      " ---ATA---TTGTAG \n",
      " ATTTTAGGT------ \n",
      "\n",
      "2. \n",
      " ATATTG--TAG \n",
      " ATTTTAGGT-- \n",
      "\n"
     ]
    },
    {
     "data": {
      "image/png": "[encoded data removed]",
      "text/plain": [
       "<Figure size 432x288 with 1 Axes>"
      ]
     },
     "metadata": {},
     "output_type": "display_data"
    }
   ],
   "source": [
    "seq_1 = \"ATATTGTAG\"\n",
    "seq_2 = \"ATTTTAGGT\"\n",
    "\n",
    "m = len(seq_1); n = len(seq_2)\n",
    "mat = np.zeros([m+1,n+1])\n",
    "mat[0,0:3]=1; mat[range(0,4),range(3,7)]=1; mat[3,6:]=1; mat[3:10,-1]=1\n",
    "mat[6,6:]=1; mat[range(0,6),range(0,6)]=1;\n",
    "sns.heatmap(mat,linecolor='white',linewidth=1,cmap=cm,square=True,vmin=-1,vmax=1,cbar=False);\n",
    "\n",
    "alignment = seq.traceback_iterator(mat,seq_1,seq_2,representation=True,high_low=True)\n",
    "for i,e in enumerate(alignment):\n",
    "    print(str(i+1)+\".\",\"\\n\",e[0],\"\\n\",e[1],\"\\n\")"
   ]
  }
 ],
 "metadata": {
  "kernelspec": {
   "display_name": "Python 3",
   "language": "python",
   "name": "python3"
  },
  "language_info": {
   "codemirror_mode": {
    "name": "ipython",
    "version": 3
   },
   "file_extension": ".py",
   "mimetype": "text/x-python",
   "name": "python",
   "nbconvert_exporter": "python",
   "pygments_lexer": "ipython3",
   "version": "3.8.5"
  }
 },
 "nbformat": 4,
 "nbformat_minor": 2
}
