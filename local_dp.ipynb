{
 "cells": [
  {
   "cell_type": "markdown",
   "metadata": {},
   "source": [
    "# Local Sequence Alignment\n",
    "\n",
    "We can align similar motifs in two sequences to each other with a dynamic programming approach."
   ]
  },
  {
   "cell_type": "code",
   "execution_count": 1,
   "metadata": {},
   "outputs": [],
   "source": [
    "import numpy as np\n",
    "import pandas as pd\n",
    "import matplotlib.pyplot as plt\n",
    "import seaborn as sns; sns.set()\n",
    "import sequence_alignment as seq"
   ]
  },
  {
   "cell_type": "markdown",
   "metadata": {},
   "source": [
    "We start off with linear gap penalties and modify the approach to incorporate affine gap penalties. Let's define two sequences:"
   ]
  },
  {
   "cell_type": "code",
   "execution_count": 2,
   "metadata": {},
   "outputs": [],
   "source": [
    "seq_2 = \"ACACCTT\"\n",
    "seq_1 = \"CCC\""
   ]
  },
  {
   "cell_type": "markdown",
   "metadata": {},
   "source": [
    "## 1. Initialization\n",
    "The initialized scoring matrix $M$ contains $0\\ \\forall\\ i,j$ "
   ]
  },
  {
   "cell_type": "code",
   "execution_count": 3,
   "metadata": {},
   "outputs": [],
   "source": [
    "g = -1"
   ]
  },
  {
   "cell_type": "code",
   "execution_count": 4,
   "metadata": {},
   "outputs": [],
   "source": [
    "#initialize the scoring matrix\n",
    "m = len(seq_1); n = len(seq_2)\n",
    "M = np.zeros([m+1,n+1])"
   ]
  },
  {
   "cell_type": "markdown",
   "metadata": {},
   "source": [
    "## 2. Fill Step\n",
    "\n",
    "The recursion relationship is modified as follows:\n",
    "\n",
    "$$ M_{i,j} = \\max \\{ (M_{i-1,j-1} + S_{i,j}), \\ (M_{i-1,j} + g), \\ (M_{i,j-1} + g),\\ 0 \\} $$\n",
    "\n",
    "where $M$ is the scoring matrix, $S$ is the substitution matrix and $g$ is the gap penalty. \n",
    "\n",
    "Let's define a substitution matrix:"
   ]
  },
  {
   "cell_type": "code",
   "execution_count": 5,
   "metadata": {},
   "outputs": [
    {
     "data": {
      "text/html": [
       "<div>\n",
       "<style scoped>\n",
       "    .dataframe tbody tr th:only-of-type {\n",
       "        vertical-align: middle;\n",
       "    }\n",
       "\n",
       "    .dataframe tbody tr th {\n",
       "        vertical-align: top;\n",
       "    }\n",
       "\n",
       "    .dataframe thead th {\n",
       "        text-align: right;\n",
       "    }\n",
       "</style>\n",
       "<table border=\"1\" class=\"dataframe\">\n",
       "  <thead>\n",
       "    <tr style=\"text-align: right;\">\n",
       "      <th></th>\n",
       "      <th>A</th>\n",
       "      <th>G</th>\n",
       "      <th>C</th>\n",
       "      <th>T</th>\n",
       "    </tr>\n",
       "  </thead>\n",
       "  <tbody>\n",
       "    <tr>\n",
       "      <th>A</th>\n",
       "      <td>2.0</td>\n",
       "      <td>-1.0</td>\n",
       "      <td>-1.0</td>\n",
       "      <td>-1.0</td>\n",
       "    </tr>\n",
       "    <tr>\n",
       "      <th>G</th>\n",
       "      <td>-1.0</td>\n",
       "      <td>2.0</td>\n",
       "      <td>-1.0</td>\n",
       "      <td>-1.0</td>\n",
       "    </tr>\n",
       "    <tr>\n",
       "      <th>C</th>\n",
       "      <td>-1.0</td>\n",
       "      <td>-1.0</td>\n",
       "      <td>2.0</td>\n",
       "      <td>-1.0</td>\n",
       "    </tr>\n",
       "    <tr>\n",
       "      <th>T</th>\n",
       "      <td>-1.0</td>\n",
       "      <td>-1.0</td>\n",
       "      <td>-1.0</td>\n",
       "      <td>2.0</td>\n",
       "    </tr>\n",
       "  </tbody>\n",
       "</table>\n",
       "</div>"
      ],
      "text/plain": [
       "     A    G    C    T\n",
       "A  2.0 -1.0 -1.0 -1.0\n",
       "G -1.0  2.0 -1.0 -1.0\n",
       "C -1.0 -1.0  2.0 -1.0\n",
       "T -1.0 -1.0 -1.0  2.0"
      ]
     },
     "execution_count": 5,
     "metadata": {},
     "output_type": "execute_result"
    }
   ],
   "source": [
    "S = pd.read_csv('dna_identity.csv',index_col=0)\n",
    "S[S==1] = 2\n",
    "S[S==0] = -1\n",
    "S"
   ]
  },
  {
   "cell_type": "code",
   "execution_count": 6,
   "metadata": {},
   "outputs": [],
   "source": [
    "tracer = np.zeros([np.shape(M)[0],np.shape(M)[1],3])\n",
    "for i in range(1,m+1):\n",
    "    for j in range(1,n+1):\n",
    "        arr = np.array([M[i-1,j-1]+(S[seq_1[i-1]][seq_2[j-1]]),(M[i-1,j]+g),(M[i,j-1]+g)])\n",
    "        M[i,j] = np.max(np.hstack([arr,0]))\n",
    "        idx = np.where(arr==np.max(arr))*int(M[i,j]!=0)\n",
    "        tracer[i,j,idx] = 1"
   ]
  },
  {
   "cell_type": "code",
   "execution_count": 7,
   "metadata": {},
   "outputs": [
    {
     "data": {
      "image/png": "[encoded data removed]",
      "text/plain": [
       "<Figure size 432x288 with 1 Axes>"
      ]
     },
     "metadata": {},
     "output_type": "display_data"
    }
   ],
   "source": [
    "sns.heatmap(M,linecolor='white',linewidth=1,cmap=\"viridis\",square=True,annot=True,cbar=False);"
   ]
  },
  {
   "cell_type": "markdown",
   "metadata": {},
   "source": [
    "Let's visualize the traceback matrices:"
   ]
  },
  {
   "cell_type": "code",
   "execution_count": 8,
   "metadata": {},
   "outputs": [
    {
     "data": {
      "image/png": "[encoded data removed]",
      "text/plain": [
       "<Figure size 936x432 with 3 Axes>"
      ]
     },
     "metadata": {},
     "output_type": "display_data"
    }
   ],
   "source": [
    "fig, ax = plt.subplots(1,3,figsize = (13,6))\n",
    "for i,p in enumerate([r\"$\\nwarrow$\",r\"$\\uparrow$\",r\"$\\leftarrow$\"]):\n",
    "        sns.heatmap(tracer[:,:,i],linecolor='white',linewidth=1,\n",
    "                    cmap=\"coolwarm\",vmin=-0.5,vmax=0.6,square=True,cbar=False,ax=ax[i]);\n",
    "        ax[i].set_title(p)"
   ]
  },
  {
   "cell_type": "markdown",
   "metadata": {},
   "source": [
    "## 3. Traceback\n",
    "\n",
    "The traceback function has to be modified to start at the element with the highest score. We terminate the traceback when $M_{(i,j)} = 0$. Therefore, we need both the `tracer` matrix as well as $M$ to determine stop location."
   ]
  },
  {
   "cell_type": "code",
   "execution_count": 9,
   "metadata": {},
   "outputs": [
    {
     "name": "stdout",
     "output_type": "stream",
     "text": [
      "WARNING: 100 iterations exceeded; <10 alignments found: to continue searching, increase max_i.\n",
      "1. \n",
      " -C-CC-- \n",
      " ACACCTT \n",
      "\n"
     ]
    }
   ],
   "source": [
    "alignment = seq.traceback_iterator(tracer,seq_1,seq_2,mat=M,local=True)\n",
    "for i,e in enumerate(alignment):\n",
    "    print(str(i+1)+\".\",\"\\n\",e[0],\"\\n\",e[1],\"\\n\")"
   ]
  },
  {
   "cell_type": "markdown",
   "metadata": {},
   "source": [
    "For the above two sequences, the `CACC` motif is aligned to `C-CC` motif."
   ]
  },
  {
   "cell_type": "markdown",
   "metadata": {},
   "source": [
    "## 4. Example Alignments\n",
    "\n",
    "As usual, let's align more sequences\n",
    "\n",
    "### 1."
   ]
  },
  {
   "cell_type": "code",
   "execution_count": 10,
   "metadata": {},
   "outputs": [],
   "source": [
    "seq_1 = \"ATCCCCGGGGGGGCT\"\n",
    "seq_2 = \"AT\"\n",
    "\n",
    "S = pd.read_csv('dna_transition_transversion.csv',index_col=0)\n",
    "g = -6"
   ]
  },
  {
   "cell_type": "code",
   "execution_count": 11,
   "metadata": {},
   "outputs": [
    {
     "name": "stdout",
     "output_type": "stream",
     "text": [
      "WARNING: 100 iterations exceeded; <10 alignments found: to continue searching, increase max_i.\n",
      "Max. score = 4.0\n",
      "1. \n",
      " ATCCCCGGGGGGGCT \n",
      " AT------------- \n",
      "\n"
     ]
    }
   ],
   "source": [
    "_,_,_ = seq.local_dp(seq_1,seq_2,S,g,disp_alignments = True)"
   ]
  },
  {
   "cell_type": "markdown",
   "metadata": {},
   "source": [
    "### 2. "
   ]
  },
  {
   "cell_type": "code",
   "execution_count": 12,
   "metadata": {},
   "outputs": [],
   "source": [
    "seq_2 = \"AAATTGCGCAAAATCTACTACGCGCGCGA\"\n",
    "seq_1 = \"AAATTGCGCAAAATCTTACGCGCCCTACGCGA\"\n",
    "\n",
    "S = pd.read_csv('dna_transition_transversion.csv',index_col=0)\n",
    "g = -6"
   ]
  },
  {
   "cell_type": "code",
   "execution_count": 13,
   "metadata": {},
   "outputs": [
    {
     "name": "stdout",
     "output_type": "stream",
     "text": [
      "WARNING: 100 iterations exceeded; <10 alignments found: to continue searching, increase max_i.\n",
      "Max. score = 34.0\n",
      "1. \n",
      " AAATTGCGCAAAATCT--TACGCGCCCTACGCGA \n",
      " AAATTGCGCAAAATCTACTACGCGCGCGA----- \n",
      "\n"
     ]
    }
   ],
   "source": [
    "_,_,_ = seq.local_dp(seq_1,seq_2,S,g,disp_alignments = True)"
   ]
  },
  {
   "cell_type": "markdown",
   "metadata": {},
   "source": [
    "### 3."
   ]
  },
  {
   "cell_type": "code",
   "execution_count": 14,
   "metadata": {},
   "outputs": [],
   "source": [
    "seq_2 = \"KMNPHGHGHG\"\n",
    "seq_1 = \"HG\"\n",
    "\n",
    "S = pd.read_csv('blosum62.csv',index_col=0)\n",
    "g = -6"
   ]
  },
  {
   "cell_type": "code",
   "execution_count": 15,
   "metadata": {},
   "outputs": [
    {
     "name": "stdout",
     "output_type": "stream",
     "text": [
      "WARNING: 100 iterations exceeded; <10 alignments found: to continue searching, increase max_i.\n",
      "Max. score = 14.0\n",
      "1. \n",
      " ------HG-- \n",
      " KMNPHGHGHG \n",
      "\n",
      "2. \n",
      " --------HG \n",
      " KMNPHGHGHG \n",
      "\n",
      "3. \n",
      " ----HG---- \n",
      " KMNPHGHGHG \n",
      "\n"
     ]
    }
   ],
   "source": [
    "_,_,_ = seq.local_dp(seq_1,seq_2,S,g,disp_alignments = True)"
   ]
  }
 ],
 "metadata": {
  "kernelspec": {
   "display_name": "Python 3",
   "language": "python",
   "name": "python3"
  },
  "language_info": {
   "codemirror_mode": {
    "name": "ipython",
    "version": 3
   },
   "file_extension": ".py",
   "mimetype": "text/x-python",
   "name": "python",
   "nbconvert_exporter": "python",
   "pygments_lexer": "ipython3",
   "version": "3.8.5"
  }
 },
 "nbformat": 4,
 "nbformat_minor": 2
}
